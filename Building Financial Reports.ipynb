{
 "cells": [
  {
   "cell_type": "code",
   "execution_count": 1,
   "metadata": {},
   "outputs": [],
   "source": [
    "## Help your hedge fund manager!\n",
    "\n",
    "#You have two datasets at your disposal: `Balance_Sheet.xlsx` and `Income_Statement.xlsx`. Both these datasets have three columns in common:\n",
    "#- `\"Company\"`: The company's ticker name.\n",
    "#- `\"comp_type\"` The type of industry the company in question belongs to. It is either `\"tech\"` for companies in the technology industry, `\"fmcg\"` for companies in the fast-moving consumer goods industry, and `\"real_est\"` for companies in the real estate industry. \n",
    "#- `\"Year\"`: The year the company's information is from.\n",
    "\n",
    "#The rest of the columns in the datasets contain information from the financial statement of the `\"Company\"` in question. Note that the columns in `Balance_Sheet.xlsx` only contain financial information from the balance sheet. Similarly, the columns in `Income_Statement.xlsx` only contain financial information from the income statement. The columns are named accordingly. For instance, the column `\"Total Liab\"` from `Balance_Sheet.xlsx` is the total liability."
   ]
  },
  {
   "cell_type": "code",
   "execution_count": 2,
   "metadata": {},
   "outputs": [
    {
     "name": "stderr",
     "output_type": "stream",
     "text": [
      "/Users/raquelfontnavarri/opt/anaconda3/lib/python3.8/site-packages/pandas/core/computation/expressions.py:20: UserWarning: Pandas requires version '2.7.3' or newer of 'numexpr' (version '2.7.1' currently installed).\n",
      "  from pandas.core.computation.check import NUMEXPR_INSTALLED\n"
     ]
    }
   ],
   "source": [
    "from pandas.core.computation.check import NUMEXPR_INSTALLED"
   ]
  },
  {
   "cell_type": "code",
   "execution_count": 6,
   "metadata": {},
   "outputs": [
    {
     "ename": "SyntaxError",
     "evalue": "invalid syntax (<ipython-input-6-6225056f9bdf>, line 1)",
     "output_type": "error",
     "traceback": [
      "\u001b[0;36m  File \u001b[0;32m\"<ipython-input-6-6225056f9bdf>\"\u001b[0;36m, line \u001b[0;32m1\u001b[0m\n\u001b[0;31m    pip install --upgrade numpy\u001b[0m\n\u001b[0m        ^\u001b[0m\n\u001b[0;31mSyntaxError\u001b[0m\u001b[0;31m:\u001b[0m invalid syntax\n"
     ]
    }
   ],
   "source": [
    "pip install --upgrade numpy\n",
    "\n"
   ]
  },
  {
   "cell_type": "code",
   "execution_count": 7,
   "metadata": {},
   "outputs": [
    {
     "name": "stdout",
     "output_type": "stream",
     "text": [
      "Collecting openpyxl\n",
      "  Downloading openpyxl-3.1.2-py2.py3-none-any.whl (249 kB)\n",
      "\u001b[K     |████████████████████████████████| 249 kB 1.8 MB/s eta 0:00:01\n",
      "\u001b[?25hRequirement already satisfied, skipping upgrade: et-xmlfile in ./opt/anaconda3/lib/python3.8/site-packages (from openpyxl) (1.0.1)\n",
      "Installing collected packages: openpyxl\n",
      "  Attempting uninstall: openpyxl\n",
      "    Found existing installation: openpyxl 3.0.4\n",
      "    Uninstalling openpyxl-3.0.4:\n",
      "      Successfully uninstalled openpyxl-3.0.4\n",
      "Successfully installed openpyxl-3.1.2\n",
      "Note: you may need to restart the kernel to use updated packages.\n"
     ]
    }
   ],
   "source": [
    "pip install --upgrade openpyxl"
   ]
  },
  {
   "cell_type": "code",
   "execution_count": 1,
   "metadata": {},
   "outputs": [
    {
     "name": "stderr",
     "output_type": "stream",
     "text": [
      "/Users/raquelfontnavarri/opt/anaconda3/lib/python3.8/site-packages/pandas/core/computation/expressions.py:20: UserWarning: Pandas requires version '2.7.3' or newer of 'numexpr' (version '2.7.1' currently installed).\n",
      "  from pandas.core.computation.check import NUMEXPR_INSTALLED\n"
     ]
    }
   ],
   "source": [
    "import pandas as pd\n",
    "import numpy as np"
   ]
  },
  {
   "cell_type": "code",
   "execution_count": 7,
   "metadata": {},
   "outputs": [],
   "source": [
    "balance = pd.read_excel('/Users/raquelfontnavarri/Desktop/Balance_Sheet.xlsx')\n",
    "income = pd.read_excel('/Users/raquelfontnavarri/Desktop/Income_Statement.xlsx')"
   ]
  },
  {
   "cell_type": "code",
   "execution_count": 8,
   "metadata": {},
   "outputs": [
    {
     "name": "stdout",
     "output_type": "stream",
     "text": [
      "<class 'pandas.core.frame.DataFrame'>\n",
      "RangeIndex: 60 entries, 0 to 59\n",
      "Data columns (total 14 columns):\n",
      " #   Column                     Non-Null Count  Dtype  \n",
      "---  ------                     --------------  -----  \n",
      " 0   Unnamed: 0                 60 non-null     int64  \n",
      " 1   Year                       60 non-null     int64  \n",
      " 2   comp_type                  60 non-null     object \n",
      " 3   company                    60 non-null     object \n",
      " 4   Accounts Payable           60 non-null     int64  \n",
      " 5   Cash                       60 non-null     int64  \n",
      " 6   Inventory                  44 non-null     float64\n",
      " 7   Property Plant Equipment   60 non-null     int64  \n",
      " 8   Short Term Investments     37 non-null     float64\n",
      " 9   Total Assets               60 non-null     int64  \n",
      " 10  Total Current Assets       60 non-null     int64  \n",
      " 11  Total Current Liabilities  60 non-null     int64  \n",
      " 12  Total Liab                 60 non-null     int64  \n",
      " 13  Total Stockholder Equity   60 non-null     int64  \n",
      "dtypes: float64(2), int64(10), object(2)\n",
      "memory usage: 6.7+ KB\n"
     ]
    }
   ],
   "source": [
    "balance.info()"
   ]
  },
  {
   "cell_type": "code",
   "execution_count": 16,
   "metadata": {},
   "outputs": [
    {
     "data": {
      "text/html": [
       "<div>\n",
       "<style scoped>\n",
       "    .dataframe tbody tr th:only-of-type {\n",
       "        vertical-align: middle;\n",
       "    }\n",
       "\n",
       "    .dataframe tbody tr th {\n",
       "        vertical-align: top;\n",
       "    }\n",
       "\n",
       "    .dataframe thead th {\n",
       "        text-align: right;\n",
       "    }\n",
       "</style>\n",
       "<table border=\"1\" class=\"dataframe\">\n",
       "  <thead>\n",
       "    <tr style=\"text-align: right;\">\n",
       "      <th></th>\n",
       "      <th>Unnamed: 0</th>\n",
       "      <th>Year</th>\n",
       "      <th>comp_type</th>\n",
       "      <th>company</th>\n",
       "      <th>Accounts Payable</th>\n",
       "      <th>Cash</th>\n",
       "      <th>Inventory</th>\n",
       "      <th>Property Plant Equipment</th>\n",
       "      <th>Short Term Investments</th>\n",
       "      <th>Total Assets</th>\n",
       "      <th>Total Current Assets</th>\n",
       "      <th>Total Current Liabilities</th>\n",
       "      <th>Total Liab</th>\n",
       "      <th>Total Stockholder Equity</th>\n",
       "    </tr>\n",
       "  </thead>\n",
       "  <tbody>\n",
       "  </tbody>\n",
       "</table>\n",
       "</div>"
      ],
      "text/plain": [
       "Empty DataFrame\n",
       "Columns: [Unnamed: 0, Year, comp_type, company, Accounts Payable, Cash, Inventory, Property Plant Equipment, Short Term Investments, Total Assets, Total Current Assets, Total Current Liabilities, Total Liab, Total Stockholder Equity]\n",
       "Index: []"
      ]
     },
     "execution_count": 16,
     "metadata": {},
     "output_type": "execute_result"
    }
   ],
   "source": [
    "balance[balance.duplicated()]"
   ]
  },
  {
   "cell_type": "code",
   "execution_count": 18,
   "metadata": {},
   "outputs": [
    {
     "data": {
      "text/plain": [
       "Unnamed: 0                    0\n",
       "Year                          0\n",
       "comp_type                     0\n",
       "company                       0\n",
       "Accounts Payable              0\n",
       "Cash                          0\n",
       "Inventory                    16\n",
       "Property Plant Equipment      0\n",
       "Short Term Investments       23\n",
       "Total Assets                  0\n",
       "Total Current Assets          0\n",
       "Total Current Liabilities     0\n",
       "Total Liab                    0\n",
       "Total Stockholder Equity      0\n",
       "dtype: int64"
      ]
     },
     "execution_count": 18,
     "metadata": {},
     "output_type": "execute_result"
    }
   ],
   "source": [
    "balance.isnull().sum()"
   ]
  },
  {
   "cell_type": "code",
   "execution_count": 22,
   "metadata": {},
   "outputs": [
    {
     "data": {
      "text/html": [
       "<div>\n",
       "<style scoped>\n",
       "    .dataframe tbody tr th:only-of-type {\n",
       "        vertical-align: middle;\n",
       "    }\n",
       "\n",
       "    .dataframe tbody tr th {\n",
       "        vertical-align: top;\n",
       "    }\n",
       "\n",
       "    .dataframe thead th {\n",
       "        text-align: right;\n",
       "    }\n",
       "</style>\n",
       "<table border=\"1\" class=\"dataframe\">\n",
       "  <thead>\n",
       "    <tr style=\"text-align: right;\">\n",
       "      <th></th>\n",
       "      <th>Unnamed: 0</th>\n",
       "      <th>Year</th>\n",
       "      <th>comp_type</th>\n",
       "      <th>company</th>\n",
       "      <th>Accounts Payable</th>\n",
       "      <th>Cash</th>\n",
       "      <th>Inventory</th>\n",
       "      <th>Property Plant Equipment</th>\n",
       "      <th>Short Term Investments</th>\n",
       "      <th>Total Assets</th>\n",
       "      <th>Total Current Assets</th>\n",
       "      <th>Total Current Liabilities</th>\n",
       "      <th>Total Liab</th>\n",
       "      <th>Total Stockholder Equity</th>\n",
       "    </tr>\n",
       "  </thead>\n",
       "  <tbody>\n",
       "    <tr>\n",
       "      <th>16</th>\n",
       "      <td>16</td>\n",
       "      <td>2018</td>\n",
       "      <td>tech</td>\n",
       "      <td>META</td>\n",
       "      <td>820000000</td>\n",
       "      <td>10019000000</td>\n",
       "      <td>NaN</td>\n",
       "      <td>24683000000</td>\n",
       "      <td>3.109500e+10</td>\n",
       "      <td>97334000000</td>\n",
       "      <td>50480000000</td>\n",
       "      <td>7017000000</td>\n",
       "      <td>13207000000</td>\n",
       "      <td>84127000000</td>\n",
       "    </tr>\n",
       "    <tr>\n",
       "      <th>17</th>\n",
       "      <td>17</td>\n",
       "      <td>2019</td>\n",
       "      <td>tech</td>\n",
       "      <td>META</td>\n",
       "      <td>1363000000</td>\n",
       "      <td>19079000000</td>\n",
       "      <td>NaN</td>\n",
       "      <td>44783000000</td>\n",
       "      <td>3.577600e+10</td>\n",
       "      <td>133376000000</td>\n",
       "      <td>66225000000</td>\n",
       "      <td>15053000000</td>\n",
       "      <td>32322000000</td>\n",
       "      <td>101054000000</td>\n",
       "    </tr>\n",
       "    <tr>\n",
       "      <th>18</th>\n",
       "      <td>18</td>\n",
       "      <td>2020</td>\n",
       "      <td>tech</td>\n",
       "      <td>META</td>\n",
       "      <td>1331000000</td>\n",
       "      <td>17576000000</td>\n",
       "      <td>NaN</td>\n",
       "      <td>54981000000</td>\n",
       "      <td>4.437800e+10</td>\n",
       "      <td>159316000000</td>\n",
       "      <td>75670000000</td>\n",
       "      <td>14981000000</td>\n",
       "      <td>31026000000</td>\n",
       "      <td>128290000000</td>\n",
       "    </tr>\n",
       "    <tr>\n",
       "      <th>19</th>\n",
       "      <td>19</td>\n",
       "      <td>2021</td>\n",
       "      <td>tech</td>\n",
       "      <td>META</td>\n",
       "      <td>4083000000</td>\n",
       "      <td>16601000000</td>\n",
       "      <td>NaN</td>\n",
       "      <td>69964000000</td>\n",
       "      <td>3.139700e+10</td>\n",
       "      <td>165987000000</td>\n",
       "      <td>66666000000</td>\n",
       "      <td>21135000000</td>\n",
       "      <td>41108000000</td>\n",
       "      <td>124879000000</td>\n",
       "    </tr>\n",
       "    <tr>\n",
       "      <th>24</th>\n",
       "      <td>24</td>\n",
       "      <td>2018</td>\n",
       "      <td>real_est</td>\n",
       "      <td>AMT</td>\n",
       "      <td>130800000</td>\n",
       "      <td>1208700000</td>\n",
       "      <td>NaN</td>\n",
       "      <td>11247100000</td>\n",
       "      <td>NaN</td>\n",
       "      <td>33010400000</td>\n",
       "      <td>2385100000</td>\n",
       "      <td>4689900000</td>\n",
       "      <td>26106000000</td>\n",
       "      <td>5336100000</td>\n",
       "    </tr>\n",
       "    <tr>\n",
       "      <th>25</th>\n",
       "      <td>25</td>\n",
       "      <td>2019</td>\n",
       "      <td>real_est</td>\n",
       "      <td>AMT</td>\n",
       "      <td>148100000</td>\n",
       "      <td>1501200000</td>\n",
       "      <td>NaN</td>\n",
       "      <td>19441800000</td>\n",
       "      <td>NaN</td>\n",
       "      <td>42801600000</td>\n",
       "      <td>2553800000</td>\n",
       "      <td>5487700000</td>\n",
       "      <td>36214700000</td>\n",
       "      <td>5055400000</td>\n",
       "    </tr>\n",
       "    <tr>\n",
       "      <th>26</th>\n",
       "      <td>26</td>\n",
       "      <td>2020</td>\n",
       "      <td>real_est</td>\n",
       "      <td>AMT</td>\n",
       "      <td>139100000</td>\n",
       "      <td>1746300000</td>\n",
       "      <td>NaN</td>\n",
       "      <td>20597900000</td>\n",
       "      <td>NaN</td>\n",
       "      <td>47233500000</td>\n",
       "      <td>2905600000</td>\n",
       "      <td>3655500000</td>\n",
       "      <td>42453000000</td>\n",
       "      <td>4093500000</td>\n",
       "    </tr>\n",
       "    <tr>\n",
       "      <th>27</th>\n",
       "      <td>27</td>\n",
       "      <td>2021</td>\n",
       "      <td>real_est</td>\n",
       "      <td>AMT</td>\n",
       "      <td>272400000</td>\n",
       "      <td>1949900000</td>\n",
       "      <td>NaN</td>\n",
       "      <td>29009100000</td>\n",
       "      <td>NaN</td>\n",
       "      <td>69887900000</td>\n",
       "      <td>3729400000</td>\n",
       "      <td>9067300000</td>\n",
       "      <td>60818300000</td>\n",
       "      <td>5081200000</td>\n",
       "    </tr>\n",
       "    <tr>\n",
       "      <th>28</th>\n",
       "      <td>28</td>\n",
       "      <td>2018</td>\n",
       "      <td>real_est</td>\n",
       "      <td>CCI</td>\n",
       "      <td>313000000</td>\n",
       "      <td>277000000</td>\n",
       "      <td>NaN</td>\n",
       "      <td>13653000000</td>\n",
       "      <td>NaN</td>\n",
       "      <td>32762000000</td>\n",
       "      <td>1229000000</td>\n",
       "      <td>1506000000</td>\n",
       "      <td>21191000000</td>\n",
       "      <td>11571000000</td>\n",
       "    </tr>\n",
       "    <tr>\n",
       "      <th>29</th>\n",
       "      <td>29</td>\n",
       "      <td>2019</td>\n",
       "      <td>real_est</td>\n",
       "      <td>CCI</td>\n",
       "      <td>334000000</td>\n",
       "      <td>196000000</td>\n",
       "      <td>NaN</td>\n",
       "      <td>20799000000</td>\n",
       "      <td>NaN</td>\n",
       "      <td>38457000000</td>\n",
       "      <td>1204000000</td>\n",
       "      <td>1920000000</td>\n",
       "      <td>27968000000</td>\n",
       "      <td>10489000000</td>\n",
       "    </tr>\n",
       "    <tr>\n",
       "      <th>30</th>\n",
       "      <td>30</td>\n",
       "      <td>2020</td>\n",
       "      <td>real_est</td>\n",
       "      <td>CCI</td>\n",
       "      <td>230000000</td>\n",
       "      <td>232000000</td>\n",
       "      <td>NaN</td>\n",
       "      <td>21626000000</td>\n",
       "      <td>NaN</td>\n",
       "      <td>38768000000</td>\n",
       "      <td>1104000000</td>\n",
       "      <td>1969000000</td>\n",
       "      <td>29307000000</td>\n",
       "      <td>9461000000</td>\n",
       "    </tr>\n",
       "    <tr>\n",
       "      <th>31</th>\n",
       "      <td>31</td>\n",
       "      <td>2021</td>\n",
       "      <td>real_est</td>\n",
       "      <td>CCI</td>\n",
       "      <td>246000000</td>\n",
       "      <td>292000000</td>\n",
       "      <td>NaN</td>\n",
       "      <td>21951000000</td>\n",
       "      <td>NaN</td>\n",
       "      <td>39040000000</td>\n",
       "      <td>1254000000</td>\n",
       "      <td>2026000000</td>\n",
       "      <td>30782000000</td>\n",
       "      <td>8258000000</td>\n",
       "    </tr>\n",
       "    <tr>\n",
       "      <th>32</th>\n",
       "      <td>32</td>\n",
       "      <td>2018</td>\n",
       "      <td>real_est</td>\n",
       "      <td>SPG</td>\n",
       "      <td>1250161000</td>\n",
       "      <td>514335000</td>\n",
       "      <td>NaN</td>\n",
       "      <td>24208131000</td>\n",
       "      <td>NaN</td>\n",
       "      <td>30686223000</td>\n",
       "      <td>1653813000</td>\n",
       "      <td>2869572000</td>\n",
       "      <td>26659104000</td>\n",
       "      <td>3253933000</td>\n",
       "    </tr>\n",
       "    <tr>\n",
       "      <th>33</th>\n",
       "      <td>33</td>\n",
       "      <td>2019</td>\n",
       "      <td>real_est</td>\n",
       "      <td>SPG</td>\n",
       "      <td>1345882000</td>\n",
       "      <td>669373000</td>\n",
       "      <td>NaN</td>\n",
       "      <td>24413379000</td>\n",
       "      <td>NaN</td>\n",
       "      <td>31231630000</td>\n",
       "      <td>1853306000</td>\n",
       "      <td>2990476000</td>\n",
       "      <td>28101319000</td>\n",
       "      <td>2483978000</td>\n",
       "    </tr>\n",
       "    <tr>\n",
       "      <th>34</th>\n",
       "      <td>34</td>\n",
       "      <td>2020</td>\n",
       "      <td>real_est</td>\n",
       "      <td>SPG</td>\n",
       "      <td>1283225000</td>\n",
       "      <td>1011613000</td>\n",
       "      <td>NaN</td>\n",
       "      <td>23671173000</td>\n",
       "      <td>NaN</td>\n",
       "      <td>34786846000</td>\n",
       "      <td>2573336000</td>\n",
       "      <td>3463740000</td>\n",
       "      <td>31128608000</td>\n",
       "      <td>2997381000</td>\n",
       "    </tr>\n",
       "    <tr>\n",
       "      <th>35</th>\n",
       "      <td>35</td>\n",
       "      <td>2021</td>\n",
       "      <td>real_est</td>\n",
       "      <td>SPG</td>\n",
       "      <td>1411603000</td>\n",
       "      <td>533936000</td>\n",
       "      <td>NaN</td>\n",
       "      <td>22815358000</td>\n",
       "      <td>NaN</td>\n",
       "      <td>33777379000</td>\n",
       "      <td>1850356000</td>\n",
       "      <td>5002560000</td>\n",
       "      <td>29376654000</td>\n",
       "      <td>3319689000</td>\n",
       "    </tr>\n",
       "  </tbody>\n",
       "</table>\n",
       "</div>"
      ],
      "text/plain": [
       "    Unnamed: 0  Year comp_type company  Accounts Payable         Cash  \\\n",
       "16          16  2018      tech    META         820000000  10019000000   \n",
       "17          17  2019      tech    META        1363000000  19079000000   \n",
       "18          18  2020      tech    META        1331000000  17576000000   \n",
       "19          19  2021      tech    META        4083000000  16601000000   \n",
       "24          24  2018  real_est     AMT         130800000   1208700000   \n",
       "25          25  2019  real_est     AMT         148100000   1501200000   \n",
       "26          26  2020  real_est     AMT         139100000   1746300000   \n",
       "27          27  2021  real_est     AMT         272400000   1949900000   \n",
       "28          28  2018  real_est     CCI         313000000    277000000   \n",
       "29          29  2019  real_est     CCI         334000000    196000000   \n",
       "30          30  2020  real_est     CCI         230000000    232000000   \n",
       "31          31  2021  real_est     CCI         246000000    292000000   \n",
       "32          32  2018  real_est     SPG        1250161000    514335000   \n",
       "33          33  2019  real_est     SPG        1345882000    669373000   \n",
       "34          34  2020  real_est     SPG        1283225000   1011613000   \n",
       "35          35  2021  real_est     SPG        1411603000    533936000   \n",
       "\n",
       "    Inventory  Property Plant Equipment  Short Term Investments  Total Assets  \\\n",
       "16        NaN               24683000000            3.109500e+10   97334000000   \n",
       "17        NaN               44783000000            3.577600e+10  133376000000   \n",
       "18        NaN               54981000000            4.437800e+10  159316000000   \n",
       "19        NaN               69964000000            3.139700e+10  165987000000   \n",
       "24        NaN               11247100000                     NaN   33010400000   \n",
       "25        NaN               19441800000                     NaN   42801600000   \n",
       "26        NaN               20597900000                     NaN   47233500000   \n",
       "27        NaN               29009100000                     NaN   69887900000   \n",
       "28        NaN               13653000000                     NaN   32762000000   \n",
       "29        NaN               20799000000                     NaN   38457000000   \n",
       "30        NaN               21626000000                     NaN   38768000000   \n",
       "31        NaN               21951000000                     NaN   39040000000   \n",
       "32        NaN               24208131000                     NaN   30686223000   \n",
       "33        NaN               24413379000                     NaN   31231630000   \n",
       "34        NaN               23671173000                     NaN   34786846000   \n",
       "35        NaN               22815358000                     NaN   33777379000   \n",
       "\n",
       "    Total Current Assets  Total Current Liabilities   Total Liab  \\\n",
       "16           50480000000                 7017000000  13207000000   \n",
       "17           66225000000                15053000000  32322000000   \n",
       "18           75670000000                14981000000  31026000000   \n",
       "19           66666000000                21135000000  41108000000   \n",
       "24            2385100000                 4689900000  26106000000   \n",
       "25            2553800000                 5487700000  36214700000   \n",
       "26            2905600000                 3655500000  42453000000   \n",
       "27            3729400000                 9067300000  60818300000   \n",
       "28            1229000000                 1506000000  21191000000   \n",
       "29            1204000000                 1920000000  27968000000   \n",
       "30            1104000000                 1969000000  29307000000   \n",
       "31            1254000000                 2026000000  30782000000   \n",
       "32            1653813000                 2869572000  26659104000   \n",
       "33            1853306000                 2990476000  28101319000   \n",
       "34            2573336000                 3463740000  31128608000   \n",
       "35            1850356000                 5002560000  29376654000   \n",
       "\n",
       "    Total Stockholder Equity  \n",
       "16               84127000000  \n",
       "17              101054000000  \n",
       "18              128290000000  \n",
       "19              124879000000  \n",
       "24                5336100000  \n",
       "25                5055400000  \n",
       "26                4093500000  \n",
       "27                5081200000  \n",
       "28               11571000000  \n",
       "29               10489000000  \n",
       "30                9461000000  \n",
       "31                8258000000  \n",
       "32                3253933000  \n",
       "33                2483978000  \n",
       "34                2997381000  \n",
       "35                3319689000  "
      ]
     },
     "execution_count": 22,
     "metadata": {},
     "output_type": "execute_result"
    }
   ],
   "source": [
    "balance[balance['Inventory'].isnull()]"
   ]
  },
  {
   "cell_type": "code",
   "execution_count": 9,
   "metadata": {},
   "outputs": [
    {
     "name": "stdout",
     "output_type": "stream",
     "text": [
      "<class 'pandas.core.frame.DataFrame'>\n",
      "RangeIndex: 60 entries, 0 to 59\n",
      "Data columns (total 9 columns):\n",
      " #   Column                    Non-Null Count  Dtype \n",
      "---  ------                    --------------  ----- \n",
      " 0   Unnamed: 0                60 non-null     int64 \n",
      " 1   Year                      60 non-null     int64 \n",
      " 2   comp_type                 60 non-null     object\n",
      " 3   company                   60 non-null     object\n",
      " 4   Cost Of Goods Sold        60 non-null     int64 \n",
      " 5   Gross Profit              60 non-null     int64 \n",
      " 6   Operating Income          60 non-null     int64 \n",
      " 7   Total Operating Expenses  60 non-null     int64 \n",
      " 8   Total Revenue             60 non-null     int64 \n",
      "dtypes: int64(7), object(2)\n",
      "memory usage: 4.3+ KB\n"
     ]
    }
   ],
   "source": [
    "income.info()"
   ]
  },
  {
   "cell_type": "code",
   "execution_count": 19,
   "metadata": {},
   "outputs": [
    {
     "data": {
      "text/plain": [
       "Unnamed: 0                  0\n",
       "Year                        0\n",
       "comp_type                   0\n",
       "company                     0\n",
       "Cost Of Goods Sold          0\n",
       "Gross Profit                0\n",
       "Operating Income            0\n",
       "Total Operating Expenses    0\n",
       "Total Revenue               0\n",
       "dtype: int64"
      ]
     },
     "execution_count": 19,
     "metadata": {},
     "output_type": "execute_result"
    }
   ],
   "source": [
    "income.isnull().sum()"
   ]
  },
  {
   "cell_type": "code",
   "execution_count": 17,
   "metadata": {},
   "outputs": [
    {
     "data": {
      "text/html": [
       "<div>\n",
       "<style scoped>\n",
       "    .dataframe tbody tr th:only-of-type {\n",
       "        vertical-align: middle;\n",
       "    }\n",
       "\n",
       "    .dataframe tbody tr th {\n",
       "        vertical-align: top;\n",
       "    }\n",
       "\n",
       "    .dataframe thead th {\n",
       "        text-align: right;\n",
       "    }\n",
       "</style>\n",
       "<table border=\"1\" class=\"dataframe\">\n",
       "  <thead>\n",
       "    <tr style=\"text-align: right;\">\n",
       "      <th></th>\n",
       "      <th>Unnamed: 0</th>\n",
       "      <th>Year</th>\n",
       "      <th>comp_type</th>\n",
       "      <th>company</th>\n",
       "      <th>Cost Of Goods Sold</th>\n",
       "      <th>Gross Profit</th>\n",
       "      <th>Operating Income</th>\n",
       "      <th>Total Operating Expenses</th>\n",
       "      <th>Total Revenue</th>\n",
       "    </tr>\n",
       "  </thead>\n",
       "  <tbody>\n",
       "  </tbody>\n",
       "</table>\n",
       "</div>"
      ],
      "text/plain": [
       "Empty DataFrame\n",
       "Columns: [Unnamed: 0, Year, comp_type, company, Cost Of Goods Sold, Gross Profit, Operating Income, Total Operating Expenses, Total Revenue]\n",
       "Index: []"
      ]
     },
     "execution_count": 17,
     "metadata": {},
     "output_type": "execute_result"
    }
   ],
   "source": [
    "income[income.duplicated()]"
   ]
  },
  {
   "cell_type": "code",
   "execution_count": 26,
   "metadata": {},
   "outputs": [
    {
     "data": {
      "text/html": [
       "<div>\n",
       "<style scoped>\n",
       "    .dataframe tbody tr th:only-of-type {\n",
       "        vertical-align: middle;\n",
       "    }\n",
       "\n",
       "    .dataframe tbody tr th {\n",
       "        vertical-align: top;\n",
       "    }\n",
       "\n",
       "    .dataframe thead th {\n",
       "        text-align: right;\n",
       "    }\n",
       "</style>\n",
       "<table border=\"1\" class=\"dataframe\">\n",
       "  <thead>\n",
       "    <tr style=\"text-align: right;\">\n",
       "      <th></th>\n",
       "      <th>leverage_ratio</th>\n",
       "    </tr>\n",
       "  </thead>\n",
       "  <tbody>\n",
       "    <tr>\n",
       "      <th>0</th>\n",
       "      <td>2.741004</td>\n",
       "    </tr>\n",
       "    <tr>\n",
       "      <th>1</th>\n",
       "      <td>3.957039</td>\n",
       "    </tr>\n",
       "    <tr>\n",
       "      <th>2</th>\n",
       "      <td>4.563512</td>\n",
       "    </tr>\n",
       "  </tbody>\n",
       "</table>\n",
       "</div>"
      ],
      "text/plain": [
       "   leverage_ratio\n",
       "0        2.741004\n",
       "1        3.957039\n",
       "2        4.563512"
      ]
     },
     "execution_count": 26,
     "metadata": {},
     "output_type": "execute_result"
    }
   ],
   "source": [
    "# debt-to-equity ratio :\n",
    "\n",
    "ratios = pd.DataFrame()\n",
    "\n",
    "ratios['leverage_ratio'] = balance['Total Liab']/balance['Total Stockholder Equity']\n",
    "\n",
    "ratios.head(3)"
   ]
  },
  {
   "cell_type": "code",
   "execution_count": 27,
   "metadata": {},
   "outputs": [
    {
     "data": {
      "text/html": [
       "<div>\n",
       "<style scoped>\n",
       "    .dataframe tbody tr th:only-of-type {\n",
       "        vertical-align: middle;\n",
       "    }\n",
       "\n",
       "    .dataframe tbody tr th {\n",
       "        vertical-align: top;\n",
       "    }\n",
       "\n",
       "    .dataframe thead th {\n",
       "        text-align: right;\n",
       "    }\n",
       "</style>\n",
       "<table border=\"1\" class=\"dataframe\">\n",
       "  <thead>\n",
       "    <tr style=\"text-align: right;\">\n",
       "      <th></th>\n",
       "      <th>leverage_ratio</th>\n",
       "      <th>profitability_ratio</th>\n",
       "    </tr>\n",
       "  </thead>\n",
       "  <tbody>\n",
       "    <tr>\n",
       "      <th>0</th>\n",
       "      <td>2.741004</td>\n",
       "      <td>0.378178</td>\n",
       "    </tr>\n",
       "    <tr>\n",
       "      <th>1</th>\n",
       "      <td>3.957039</td>\n",
       "      <td>0.382332</td>\n",
       "    </tr>\n",
       "    <tr>\n",
       "      <th>2</th>\n",
       "      <td>4.563512</td>\n",
       "      <td>0.417794</td>\n",
       "    </tr>\n",
       "  </tbody>\n",
       "</table>\n",
       "</div>"
      ],
      "text/plain": [
       "   leverage_ratio  profitability_ratio\n",
       "0        2.741004             0.378178\n",
       "1        3.957039             0.382332\n",
       "2        4.563512             0.417794"
      ]
     },
     "execution_count": 27,
     "metadata": {},
     "output_type": "execute_result"
    }
   ],
   "source": [
    "#gross margin ratio : \n",
    "\n",
    "ratios['profitability_ratio'] = (income['Total Revenue']-income['Cost Of Goods Sold'])/income['Total Revenue']\n",
    "ratios.head(3)"
   ]
  },
  {
   "cell_type": "code",
   "execution_count": 33,
   "metadata": {},
   "outputs": [],
   "source": [
    "ratios['comp_type'] = balance['comp_type']"
   ]
  },
  {
   "cell_type": "code",
   "execution_count": 36,
   "metadata": {},
   "outputs": [
    {
     "data": {
      "text/html": [
       "<div>\n",
       "<style scoped>\n",
       "    .dataframe tbody tr th:only-of-type {\n",
       "        vertical-align: middle;\n",
       "    }\n",
       "\n",
       "    .dataframe tbody tr th {\n",
       "        vertical-align: top;\n",
       "    }\n",
       "\n",
       "    .dataframe thead th {\n",
       "        text-align: right;\n",
       "    }\n",
       "</style>\n",
       "<table border=\"1\" class=\"dataframe\">\n",
       "  <thead>\n",
       "    <tr style=\"text-align: right;\">\n",
       "      <th></th>\n",
       "      <th>leverage_ratio</th>\n",
       "      <th>profitability_ratio</th>\n",
       "      <th>comp_type</th>\n",
       "    </tr>\n",
       "  </thead>\n",
       "  <tbody>\n",
       "    <tr>\n",
       "      <th>0</th>\n",
       "      <td>2.741004</td>\n",
       "      <td>0.378178</td>\n",
       "      <td>tech</td>\n",
       "    </tr>\n",
       "    <tr>\n",
       "      <th>1</th>\n",
       "      <td>3.957039</td>\n",
       "      <td>0.382332</td>\n",
       "      <td>tech</td>\n",
       "    </tr>\n",
       "    <tr>\n",
       "      <th>2</th>\n",
       "      <td>4.563512</td>\n",
       "      <td>0.417794</td>\n",
       "      <td>tech</td>\n",
       "    </tr>\n",
       "  </tbody>\n",
       "</table>\n",
       "</div>"
      ],
      "text/plain": [
       "   leverage_ratio  profitability_ratio comp_type\n",
       "0        2.741004             0.378178      tech\n",
       "1        3.957039             0.382332      tech\n",
       "2        4.563512             0.417794      tech"
      ]
     },
     "execution_count": 36,
     "metadata": {},
     "output_type": "execute_result"
    }
   ],
   "source": [
    "ratios.head(3)"
   ]
  },
  {
   "cell_type": "code",
   "execution_count": 56,
   "metadata": {},
   "outputs": [],
   "source": [
    "gb_ratios = ratios.groupby('comp_type')['profitability_ratio'].mean()"
   ]
  },
  {
   "cell_type": "code",
   "execution_count": 57,
   "metadata": {},
   "outputs": [
    {
     "data": {
      "text/html": [
       "<div>\n",
       "<style scoped>\n",
       "    .dataframe tbody tr th:only-of-type {\n",
       "        vertical-align: middle;\n",
       "    }\n",
       "\n",
       "    .dataframe tbody tr th {\n",
       "        vertical-align: top;\n",
       "    }\n",
       "\n",
       "    .dataframe thead th {\n",
       "        text-align: right;\n",
       "    }\n",
       "</style>\n",
       "<table border=\"1\" class=\"dataframe\">\n",
       "  <thead>\n",
       "    <tr style=\"text-align: right;\">\n",
       "      <th></th>\n",
       "      <th>profitability_ratio</th>\n",
       "    </tr>\n",
       "    <tr>\n",
       "      <th>comp_type</th>\n",
       "      <th></th>\n",
       "    </tr>\n",
       "  </thead>\n",
       "  <tbody>\n",
       "    <tr>\n",
       "      <th>fmcg</th>\n",
       "      <td>0.514396</td>\n",
       "    </tr>\n",
       "    <tr>\n",
       "      <th>real_est</th>\n",
       "      <td>0.534848</td>\n",
       "    </tr>\n",
       "    <tr>\n",
       "      <th>tech</th>\n",
       "      <td>0.572062</td>\n",
       "    </tr>\n",
       "  </tbody>\n",
       "</table>\n",
       "</div>"
      ],
      "text/plain": [
       "           profitability_ratio\n",
       "comp_type                     \n",
       "fmcg                  0.514396\n",
       "real_est              0.534848\n",
       "tech                  0.572062"
      ]
     },
     "execution_count": 57,
     "metadata": {},
     "output_type": "execute_result"
    }
   ],
   "source": [
    "pd.DataFrame(gb_ratios).sort_values(by='profitability_ratio')"
   ]
  },
  {
   "cell_type": "code",
   "execution_count": 58,
   "metadata": {},
   "outputs": [],
   "source": [
    "gb_ratios_lev = ratios.groupby('comp_type')['leverage_ratio'].mean()"
   ]
  },
  {
   "cell_type": "code",
   "execution_count": 59,
   "metadata": {
    "scrolled": true
   },
   "outputs": [
    {
     "data": {
      "text/html": [
       "<div>\n",
       "<style scoped>\n",
       "    .dataframe tbody tr th:only-of-type {\n",
       "        vertical-align: middle;\n",
       "    }\n",
       "\n",
       "    .dataframe tbody tr th {\n",
       "        vertical-align: top;\n",
       "    }\n",
       "\n",
       "    .dataframe thead th {\n",
       "        text-align: right;\n",
       "    }\n",
       "</style>\n",
       "<table border=\"1\" class=\"dataframe\">\n",
       "  <thead>\n",
       "    <tr style=\"text-align: right;\">\n",
       "      <th></th>\n",
       "      <th>leverage_ratio</th>\n",
       "    </tr>\n",
       "    <tr>\n",
       "      <th>comp_type</th>\n",
       "      <th></th>\n",
       "    </tr>\n",
       "  </thead>\n",
       "  <tbody>\n",
       "    <tr>\n",
       "      <th>tech</th>\n",
       "      <td>1.777448</td>\n",
       "    </tr>\n",
       "    <tr>\n",
       "      <th>fmcg</th>\n",
       "      <td>2.997896</td>\n",
       "    </tr>\n",
       "    <tr>\n",
       "      <th>real_est</th>\n",
       "      <td>5.692041</td>\n",
       "    </tr>\n",
       "  </tbody>\n",
       "</table>\n",
       "</div>"
      ],
      "text/plain": [
       "           leverage_ratio\n",
       "comp_type                \n",
       "tech             1.777448\n",
       "fmcg             2.997896\n",
       "real_est         5.692041"
      ]
     },
     "execution_count": 59,
     "metadata": {},
     "output_type": "execute_result"
    }
   ],
   "source": [
    "pd.DataFrame(gb_ratios_lev).sort_values(by='leverage_ratio')"
   ]
  },
  {
   "cell_type": "code",
   "execution_count": 60,
   "metadata": {},
   "outputs": [],
   "source": [
    "# corr :\n",
    "\n",
    "num_ratios = ratios.select_dtypes(include=['number'])"
   ]
  },
  {
   "cell_type": "code",
   "execution_count": 61,
   "metadata": {},
   "outputs": [
    {
     "data": {
      "text/html": [
       "<div>\n",
       "<style scoped>\n",
       "    .dataframe tbody tr th:only-of-type {\n",
       "        vertical-align: middle;\n",
       "    }\n",
       "\n",
       "    .dataframe tbody tr th {\n",
       "        vertical-align: top;\n",
       "    }\n",
       "\n",
       "    .dataframe thead th {\n",
       "        text-align: right;\n",
       "    }\n",
       "</style>\n",
       "<table border=\"1\" class=\"dataframe\">\n",
       "  <thead>\n",
       "    <tr style=\"text-align: right;\">\n",
       "      <th></th>\n",
       "      <th>leverage_ratio</th>\n",
       "      <th>profitability_ratio</th>\n",
       "    </tr>\n",
       "  </thead>\n",
       "  <tbody>\n",
       "    <tr>\n",
       "      <th>leverage_ratio</th>\n",
       "      <td>1.000000</td>\n",
       "      <td>0.153936</td>\n",
       "    </tr>\n",
       "    <tr>\n",
       "      <th>profitability_ratio</th>\n",
       "      <td>0.153936</td>\n",
       "      <td>1.000000</td>\n",
       "    </tr>\n",
       "  </tbody>\n",
       "</table>\n",
       "</div>"
      ],
      "text/plain": [
       "                     leverage_ratio  profitability_ratio\n",
       "leverage_ratio             1.000000             0.153936\n",
       "profitability_ratio        0.153936             1.000000"
      ]
     },
     "execution_count": 61,
     "metadata": {},
     "output_type": "execute_result"
    }
   ],
   "source": [
    "num_ratios.corr()"
   ]
  },
  {
   "cell_type": "code",
   "execution_count": 62,
   "metadata": {},
   "outputs": [],
   "source": [
    "gb_ratios_merged = pd.merge(gb_ratios, gb_ratios_lev, on='comp_type', how='inner')"
   ]
  },
  {
   "cell_type": "code",
   "execution_count": 63,
   "metadata": {},
   "outputs": [
    {
     "data": {
      "text/html": [
       "<div>\n",
       "<style scoped>\n",
       "    .dataframe tbody tr th:only-of-type {\n",
       "        vertical-align: middle;\n",
       "    }\n",
       "\n",
       "    .dataframe tbody tr th {\n",
       "        vertical-align: top;\n",
       "    }\n",
       "\n",
       "    .dataframe thead th {\n",
       "        text-align: right;\n",
       "    }\n",
       "</style>\n",
       "<table border=\"1\" class=\"dataframe\">\n",
       "  <thead>\n",
       "    <tr style=\"text-align: right;\">\n",
       "      <th></th>\n",
       "      <th>profitability_ratio</th>\n",
       "      <th>leverage_ratio</th>\n",
       "    </tr>\n",
       "    <tr>\n",
       "      <th>comp_type</th>\n",
       "      <th></th>\n",
       "      <th></th>\n",
       "    </tr>\n",
       "  </thead>\n",
       "  <tbody>\n",
       "    <tr>\n",
       "      <th>fmcg</th>\n",
       "      <td>0.514396</td>\n",
       "      <td>2.997896</td>\n",
       "    </tr>\n",
       "    <tr>\n",
       "      <th>real_est</th>\n",
       "      <td>0.534848</td>\n",
       "      <td>5.692041</td>\n",
       "    </tr>\n",
       "    <tr>\n",
       "      <th>tech</th>\n",
       "      <td>0.572062</td>\n",
       "      <td>1.777448</td>\n",
       "    </tr>\n",
       "  </tbody>\n",
       "</table>\n",
       "</div>"
      ],
      "text/plain": [
       "           profitability_ratio  leverage_ratio\n",
       "comp_type                                     \n",
       "fmcg                  0.514396        2.997896\n",
       "real_est              0.534848        5.692041\n",
       "tech                  0.572062        1.777448"
      ]
     },
     "execution_count": 63,
     "metadata": {},
     "output_type": "execute_result"
    }
   ],
   "source": [
    "gb_ratios_merged"
   ]
  },
  {
   "cell_type": "code",
   "execution_count": 67,
   "metadata": {},
   "outputs": [
    {
     "data": {
      "text/html": [
       "<div>\n",
       "<style scoped>\n",
       "    .dataframe tbody tr th:only-of-type {\n",
       "        vertical-align: middle;\n",
       "    }\n",
       "\n",
       "    .dataframe tbody tr th {\n",
       "        vertical-align: top;\n",
       "    }\n",
       "\n",
       "    .dataframe thead th {\n",
       "        text-align: right;\n",
       "    }\n",
       "</style>\n",
       "<table border=\"1\" class=\"dataframe\">\n",
       "  <thead>\n",
       "    <tr style=\"text-align: right;\">\n",
       "      <th></th>\n",
       "      <th></th>\n",
       "      <th>leverage_ratio</th>\n",
       "      <th>profitability_ratio</th>\n",
       "    </tr>\n",
       "    <tr>\n",
       "      <th>comp_type</th>\n",
       "      <th></th>\n",
       "      <th></th>\n",
       "      <th></th>\n",
       "    </tr>\n",
       "  </thead>\n",
       "  <tbody>\n",
       "    <tr>\n",
       "      <th rowspan=\"2\" valign=\"top\">fmcg</th>\n",
       "      <th>leverage_ratio</th>\n",
       "      <td>1.000000</td>\n",
       "      <td>0.269152</td>\n",
       "    </tr>\n",
       "    <tr>\n",
       "      <th>profitability_ratio</th>\n",
       "      <td>0.269152</td>\n",
       "      <td>1.000000</td>\n",
       "    </tr>\n",
       "    <tr>\n",
       "      <th rowspan=\"2\" valign=\"top\">real_est</th>\n",
       "      <th>leverage_ratio</th>\n",
       "      <td>1.000000</td>\n",
       "      <td>0.495253</td>\n",
       "    </tr>\n",
       "    <tr>\n",
       "      <th>profitability_ratio</th>\n",
       "      <td>0.495253</td>\n",
       "      <td>1.000000</td>\n",
       "    </tr>\n",
       "    <tr>\n",
       "      <th rowspan=\"2\" valign=\"top\">tech</th>\n",
       "      <th>leverage_ratio</th>\n",
       "      <td>1.000000</td>\n",
       "      <td>-0.707978</td>\n",
       "    </tr>\n",
       "    <tr>\n",
       "      <th>profitability_ratio</th>\n",
       "      <td>-0.707978</td>\n",
       "      <td>1.000000</td>\n",
       "    </tr>\n",
       "  </tbody>\n",
       "</table>\n",
       "</div>"
      ],
      "text/plain": [
       "                               leverage_ratio  profitability_ratio\n",
       "comp_type                                                         \n",
       "fmcg      leverage_ratio             1.000000             0.269152\n",
       "          profitability_ratio        0.269152             1.000000\n",
       "real_est  leverage_ratio             1.000000             0.495253\n",
       "          profitability_ratio        0.495253             1.000000\n",
       "tech      leverage_ratio             1.000000            -0.707978\n",
       "          profitability_ratio       -0.707978             1.000000"
      ]
     },
     "execution_count": 67,
     "metadata": {},
     "output_type": "execute_result"
    }
   ],
   "source": [
    "ratios.groupby('comp_type').corr()"
   ]
  }
 ],
 "metadata": {
  "kernelspec": {
   "display_name": "Python 3",
   "language": "python",
   "name": "python3"
  },
  "language_info": {
   "codemirror_mode": {
    "name": "ipython",
    "version": 3
   },
   "file_extension": ".py",
   "mimetype": "text/x-python",
   "name": "python",
   "nbconvert_exporter": "python",
   "pygments_lexer": "ipython3",
   "version": "3.8.3"
  }
 },
 "nbformat": 4,
 "nbformat_minor": 4
}
